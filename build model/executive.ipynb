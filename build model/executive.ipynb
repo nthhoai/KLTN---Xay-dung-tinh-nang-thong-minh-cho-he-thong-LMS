{
  "nbformat": 4,
  "nbformat_minor": 0,
  "metadata": {
    "colab": {
      "provenance": []
    },
    "kernelspec": {
      "name": "python3",
      "display_name": "Python 3"
    },
    "language_info": {
      "name": "python"
    }
  },
  "cells": [
    {
      "cell_type": "code",
      "source": [
        "from google.colab import drive\n",
        "drive.mount('/content/drive')\n",
        "import pandas as pd\n",
        "\n",
        "from collections import Counter\n",
        "from imblearn.over_sampling import SMOTE\n",
        "\n",
        "from sklearn.neural_network import MLPClassifier\n",
        "from sklearn.model_selection import StratifiedKFold\n",
        "from sklearn.metrics import classification_report\n",
        "import pickle\n",
        "\n",
        "\n",
        "data = pd.read_csv(\"/content/drive/MyDrive/BÁO CÁO & KHÓA LUẬN /Build_model/data.csv\")\n",
        "X = data.iloc[:, :-1]  # Biến độc lập\n",
        "y = data.iloc[:, -1]  # Biến phân loại"
      ],
      "metadata": {
        "colab": {
          "base_uri": "https://localhost:8080/"
        },
        "id": "N400anbvbdL_",
        "outputId": "9e2bafd2-a8e7-40b9-9acf-4fc9c87f2439"
      },
      "execution_count": 2,
      "outputs": [
        {
          "output_type": "stream",
          "name": "stdout",
          "text": [
            "Drive already mounted at /content/drive; to attempt to forcibly remount, call drive.mount(\"/content/drive\", force_remount=True).\n"
          ]
        }
      ]
    },
    {
      "cell_type": "code",
      "source": [
        "# Xử lý cân bằng sử dụng SMOTE\n",
        "smote = SMOTE(sampling_strategy=0.5)\n",
        "X_resampled, y_resampled = smote.fit_resample(X, y)\n",
        "\n",
        "# In số lượng mẫu thuộc các lớp trước khi SMOTE\n",
        "print(\"Số lượng mẫu trước khi cân bằng:\", Counter(y))\n",
        "print(\"Số lượng mẫu sau khi cân bằng:\",Counter(y_resampled))\n",
        "\n",
        "# Tạo DataFrame từ X_resampled và y_resampled\n",
        "data = pd.DataFrame(X_resampled, columns=X.columns)\n",
        "data['target'] = y_resampled\n",
        "data.to_csv('/content/drive/MyDrive/BÁO CÁO & KHÓA LUẬN /Build_model/balanced_data.csv', index=False)"
      ],
      "metadata": {
        "colab": {
          "base_uri": "https://localhost:8080/"
        },
        "id": "7lsZxdOQDpro",
        "outputId": "b4b402d5-bc3a-4705-a576-edeac64b0d11"
      },
      "execution_count": 3,
      "outputs": [
        {
          "output_type": "stream",
          "name": "stdout",
          "text": [
            "Số lượng mẫu trước khi cân bằng: Counter({'Pass': 251, 'Fail': 49})\n",
            "Số lượng mẫu sau khi cân bằng: Counter({'Pass': 251, 'Fail': 125})\n"
          ]
        }
      ]
    },
    {
      "cell_type": "code",
      "source": [
        "data = pd.read_csv('/content/drive/MyDrive/BÁO CÁO & KHÓA LUẬN /Build_model/balanced_data.csv')\n",
        "X = data.iloc[:, :-1]  # Biến độc lập\n",
        "y = data.iloc[:, -1]  # Biến phân loại"
      ],
      "metadata": {
        "id": "hfmXPNQv7xYk"
      },
      "execution_count": 4,
      "outputs": []
    },
    {
      "cell_type": "code",
      "source": [
        "mlp = MLPClassifier()\n",
        "# Khởi tạo StratifiedKFold với k = 10\n",
        "skf = StratifiedKFold(n_splits=10, shuffle=True, random_state=42)\n",
        "# Chạy phương pháp kiểm tra chéo và đánh giá mô hình\n",
        "accuracy_scores = []\n",
        "for train_index, test_index in skf.split(X, y):\n",
        "    X_train, X_test = X.iloc[train_index], X.iloc[test_index]\n",
        "    y_train, y_test = y.iloc[train_index], y.iloc[test_index]\n",
        "\n",
        "    mlp.fit(X_train, y_train)\n",
        "    y_pred = mlp.predict(X_test)"
      ],
      "metadata": {
        "id": "B1lRxtpO7CTU"
      },
      "execution_count": null,
      "outputs": []
    },
    {
      "cell_type": "code",
      "source": [
        "    # Đánh giá precision và recall\n",
        "    report = classification_report(y_test, y_pred)\n",
        "    print(report)"
      ],
      "metadata": {
        "id": "4EFBk675B5tY"
      },
      "execution_count": null,
      "outputs": []
    },
    {
      "cell_type": "code",
      "source": [
        "import pickle\n",
        "\n",
        "# Lưu mô hình vào thư mục hiện tại của Colab\n",
        "model_path = '/content/drive/MyDrive/BÁO CÁO & KHÓA LUẬN /Build_model/model_mlp.pkl'\n",
        "with open(model_path, 'wb') as file:\n",
        "    pickle.dump(mlp, file)"
      ],
      "metadata": {
        "id": "bSVbRluD7gWT"
      },
      "execution_count": 7,
      "outputs": []
    }
  ]
}